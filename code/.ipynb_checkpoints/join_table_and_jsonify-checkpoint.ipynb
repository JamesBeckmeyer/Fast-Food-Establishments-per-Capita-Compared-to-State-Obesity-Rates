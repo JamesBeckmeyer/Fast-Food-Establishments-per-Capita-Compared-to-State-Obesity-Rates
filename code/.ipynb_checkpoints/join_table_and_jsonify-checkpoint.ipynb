{
 "cells": [
  {
   "cell_type": "code",
   "execution_count": 4,
   "id": "ad3f4b91",
   "metadata": {},
   "outputs": [],
   "source": [
    "# Import the dependencies\n",
    "import sqlalchemy\n",
    "import pandas as pd\n",
    "from flask import Flask, jsonify\n",
    "\n",
    "# Python SQL toolkit and Object Relational Mapper\n",
    "from sqlalchemy.ext.automap import automap_base\n",
    "from sqlalchemy.orm import Session\n",
    "from sqlalchemy import create_engine, inspect\n",
    "from pathlib import Path\n"
   ]
  },
  {
   "cell_type": "code",
   "execution_count": 5,
   "id": "556f4f3f",
   "metadata": {},
   "outputs": [
    {
     "data": {
      "text/plain": [
       "[]"
      ]
     },
     "execution_count": 5,
     "metadata": {},
     "output_type": "execute_result"
    }
   ],
   "source": [
    "# Database Setup\n",
    "\n",
    "engine = create_engine(\"sqlite:///Resources/Obesity_db.sqlite\")\n",
    "\n",
    "# reflect an existing database into a new model\n",
    "Base = automap_base()\n",
    "\n",
    "# reflect the tables\n",
    "Base.prepare(autoload_with=engine)\n",
    "\n",
    "#test view all classes found by automap\n",
    "Base.classes.keys()\n"
   ]
  },
  {
   "cell_type": "code",
   "execution_count": 6,
   "id": "1cc8e3f1",
   "metadata": {},
   "outputs": [],
   "source": [
    "conn = engine.connect()\n",
    "\n",
    "#populate obesity table\n",
    "Obesity = pd.read_sql(\"SELECT * FROM Obesity\", conn)"
   ]
  },
  {
   "cell_type": "code",
   "execution_count": 7,
   "id": "cc5fae1d",
   "metadata": {},
   "outputs": [
    {
     "data": {
      "text/html": [
       "<div>\n",
       "<style scoped>\n",
       "    .dataframe tbody tr th:only-of-type {\n",
       "        vertical-align: middle;\n",
       "    }\n",
       "\n",
       "    .dataframe tbody tr th {\n",
       "        vertical-align: top;\n",
       "    }\n",
       "\n",
       "    .dataframe thead th {\n",
       "        text-align: right;\n",
       "    }\n",
       "</style>\n",
       "<table border=\"1\" class=\"dataframe\">\n",
       "  <thead>\n",
       "    <tr style=\"text-align: right;\">\n",
       "      <th></th>\n",
       "      <th>State</th>\n",
       "      <th>Prevalence</th>\n",
       "      <th>95% CI</th>\n",
       "    </tr>\n",
       "  </thead>\n",
       "  <tbody>\n",
       "    <tr>\n",
       "      <th>0</th>\n",
       "      <td>Alabama</td>\n",
       "      <td>39.9</td>\n",
       "      <td>(37.9, 41.8)</td>\n",
       "    </tr>\n",
       "    <tr>\n",
       "      <th>1</th>\n",
       "      <td>Alaska</td>\n",
       "      <td>33.5</td>\n",
       "      <td>(31.5, 35.5)</td>\n",
       "    </tr>\n",
       "    <tr>\n",
       "      <th>2</th>\n",
       "      <td>Arizona</td>\n",
       "      <td>31.3</td>\n",
       "      <td>(30.0, 32.6)</td>\n",
       "    </tr>\n",
       "    <tr>\n",
       "      <th>3</th>\n",
       "      <td>Arkansas</td>\n",
       "      <td>38.7</td>\n",
       "      <td>(36.6, 40.8)</td>\n",
       "    </tr>\n",
       "    <tr>\n",
       "      <th>4</th>\n",
       "      <td>California</td>\n",
       "      <td>27.6</td>\n",
       "      <td>(26.1, 29.1)</td>\n",
       "    </tr>\n",
       "  </tbody>\n",
       "</table>\n",
       "</div>"
      ],
      "text/plain": [
       "        State Prevalence        95% CI\n",
       "0     Alabama       39.9  (37.9, 41.8)\n",
       "1      Alaska       33.5  (31.5, 35.5)\n",
       "2     Arizona       31.3  (30.0, 32.6)\n",
       "3    Arkansas       38.7  (36.6, 40.8)\n",
       "4  California       27.6  (26.1, 29.1)"
      ]
     },
     "execution_count": 7,
     "metadata": {},
     "output_type": "execute_result"
    }
   ],
   "source": [
    "Obesity.head()"
   ]
  },
  {
   "cell_type": "code",
   "execution_count": 8,
   "id": "87c9d83c",
   "metadata": {},
   "outputs": [
    {
     "data": {
      "text/html": [
       "<div>\n",
       "<style scoped>\n",
       "    .dataframe tbody tr th:only-of-type {\n",
       "        vertical-align: middle;\n",
       "    }\n",
       "\n",
       "    .dataframe tbody tr th {\n",
       "        vertical-align: top;\n",
       "    }\n",
       "\n",
       "    .dataframe thead th {\n",
       "        text-align: right;\n",
       "    }\n",
       "</style>\n",
       "<table border=\"1\" class=\"dataframe\">\n",
       "  <thead>\n",
       "    <tr style=\"text-align: right;\">\n",
       "      <th></th>\n",
       "      <th>State</th>\n",
       "      <th>All fast food restaurants</th>\n",
       "      <th>Full-service restaurants</th>\n",
       "      <th>Subway</th>\n",
       "      <th>Starbucks</th>\n",
       "      <th>McDonalds</th>\n",
       "      <th>Dunkin Donut</th>\n",
       "      <th>Burger King</th>\n",
       "      <th>Taco Bell</th>\n",
       "      <th>Dominos</th>\n",
       "      <th>Wendys</th>\n",
       "      <th>Dairy Queen</th>\n",
       "    </tr>\n",
       "  </thead>\n",
       "  <tbody>\n",
       "    <tr>\n",
       "      <th>0</th>\n",
       "      <td>Alabama</td>\n",
       "      <td>81.7</td>\n",
       "      <td>57.6</td>\n",
       "      <td>8.2</td>\n",
       "      <td>1.8</td>\n",
       "      <td>5.0</td>\n",
       "      <td>0.9</td>\n",
       "      <td>3.5</td>\n",
       "      <td>2.8</td>\n",
       "      <td>2.5</td>\n",
       "      <td>2.0</td>\n",
       "      <td>1.3</td>\n",
       "    </tr>\n",
       "    <tr>\n",
       "      <th>1</th>\n",
       "      <td>Alaska</td>\n",
       "      <td>61.9</td>\n",
       "      <td>78.7</td>\n",
       "      <td>7.2</td>\n",
       "      <td>6.6</td>\n",
       "      <td>4.2</td>\n",
       "      <td>0.3</td>\n",
       "      <td>1.1</td>\n",
       "      <td>2.1</td>\n",
       "      <td>1.4</td>\n",
       "      <td>1.2</td>\n",
       "      <td>0.7</td>\n",
       "    </tr>\n",
       "    <tr>\n",
       "      <th>2</th>\n",
       "      <td>Arizona</td>\n",
       "      <td>67.9</td>\n",
       "      <td>59.2</td>\n",
       "      <td>5.6</td>\n",
       "      <td>7.3</td>\n",
       "      <td>3.9</td>\n",
       "      <td>1.3</td>\n",
       "      <td>2.5</td>\n",
       "      <td>2.5</td>\n",
       "      <td>1.6</td>\n",
       "      <td>1.4</td>\n",
       "      <td>1.5</td>\n",
       "    </tr>\n",
       "    <tr>\n",
       "      <th>3</th>\n",
       "      <td>Arkansas</td>\n",
       "      <td>69.9</td>\n",
       "      <td>67.6</td>\n",
       "      <td>8.4</td>\n",
       "      <td>2.0</td>\n",
       "      <td>5.7</td>\n",
       "      <td>0.3</td>\n",
       "      <td>2.7</td>\n",
       "      <td>3.5</td>\n",
       "      <td>2.2</td>\n",
       "      <td>2.1</td>\n",
       "      <td>1.0</td>\n",
       "    </tr>\n",
       "    <tr>\n",
       "      <th>4</th>\n",
       "      <td>California</td>\n",
       "      <td>82.3</td>\n",
       "      <td>80.4</td>\n",
       "      <td>5.7</td>\n",
       "      <td>7.4</td>\n",
       "      <td>3.2</td>\n",
       "      <td>0.3</td>\n",
       "      <td>1.4</td>\n",
       "      <td>2.1</td>\n",
       "      <td>1.4</td>\n",
       "      <td>0.7</td>\n",
       "      <td>0.2</td>\n",
       "    </tr>\n",
       "  </tbody>\n",
       "</table>\n",
       "</div>"
      ],
      "text/plain": [
       "        State All fast food restaurants Full-service restaurants  Subway  \\\n",
       "0     Alabama                      81.7                      57.6    8.2   \n",
       "1      Alaska                      61.9                      78.7    7.2   \n",
       "2     Arizona                      67.9                      59.2    5.6   \n",
       "3    Arkansas                      69.9                      67.6    8.4   \n",
       "4  California                      82.3                      80.4    5.7   \n",
       "\n",
       "  Starbucks McDonalds Dunkin Donut Burger King Taco Bell Dominos Wendys  \\\n",
       "0       1.8       5.0          0.9         3.5       2.8     2.5    2.0   \n",
       "1       6.6       4.2          0.3         1.1       2.1     1.4    1.2   \n",
       "2       7.3       3.9          1.3         2.5       2.5     1.6    1.4   \n",
       "3       2.0       5.7          0.3         2.7       3.5     2.2    2.1   \n",
       "4       7.4       3.2          0.3         1.4       2.1     1.4    0.7   \n",
       "\n",
       "  Dairy Queen  \n",
       "0         1.3  \n",
       "1         0.7  \n",
       "2         1.5  \n",
       "3         1.0  \n",
       "4         0.2  "
      ]
     },
     "execution_count": 8,
     "metadata": {},
     "output_type": "execute_result"
    }
   ],
   "source": [
    "#populate fastfood table\n",
    "Fastfood = pd.read_sql(\"SELECT * FROM Fastfood\", conn)\n",
    "Fastfood.head()"
   ]
  },
  {
   "cell_type": "code",
   "execution_count": 9,
   "id": "e84a2e96",
   "metadata": {},
   "outputs": [
    {
     "data": {
      "text/plain": [
       "['fastfood', 'obesity']"
      ]
     },
     "execution_count": 9,
     "metadata": {},
     "output_type": "execute_result"
    }
   ],
   "source": [
    "#verify tables in engine\n",
    "inspector = inspect(engine)\n",
    "inspector.get_table_names()"
   ]
  },
  {
   "cell_type": "code",
   "execution_count": null,
   "id": "7bdd22a6",
   "metadata": {
    "scrolled": true
   },
   "outputs": [],
   "source": [
    "#verify data integrity by checking data types in fastfood table\n",
    "columns_ff = inspector.get_columns('fastfood')\n",
    "for c in columns:\n",
    "    print(c['name'], c[\"type\"])"
   ]
  },
  {
   "cell_type": "code",
   "execution_count": null,
   "id": "94375ccf",
   "metadata": {},
   "outputs": [],
   "source": [
    "#verify data integrity by checking data types in obesity table\n",
    "columns_ob = inspector.get_columns('obesity')\n",
    "for c in columns:\n",
    "    print(c['name'], c[\"type\"])"
   ]
  },
  {
   "cell_type": "code",
   "execution_count": null,
   "id": "bbfc897c",
   "metadata": {},
   "outputs": [],
   "source": [
    "#create session from Python to the DB\n",
    "session = Session(engine)"
   ]
  },
  {
   "cell_type": "code",
   "execution_count": null,
   "id": "4f0e0c58",
   "metadata": {},
   "outputs": [],
   "source": [
    "#inner join for data cleanup\n",
    "joined_table = pd.read_sql('Select fastfood.State, fastfood.\"All fast food restaurants\", fastfood.Subway, fastfood.Starbucks, fastfood.McDonalds, fastfood.\"Dunkin Donut\", fastfood.\"Burger King\", fastfood.\"Taco Bell\", fastfood.Dominos, fastfood.Wendys, fastfood.\"Dairy Queen\", obesity.Prevalence, obesity.\"95% CI\" from Fastfood INNER JOIN Obesity ON (Fastfood.State = Obesity.State)', conn)"
   ]
  },
  {
   "cell_type": "code",
   "execution_count": null,
   "id": "bbe31432",
   "metadata": {
    "scrolled": false
   },
   "outputs": [],
   "source": [
    "#preview data in joined_table\n",
    "joined_table.head()"
   ]
  },
  {
   "cell_type": "code",
   "execution_count": null,
   "id": "074f4ba7",
   "metadata": {},
   "outputs": [],
   "source": [
    "#convert to json\n",
    "json_table = joined_table.to_json()"
   ]
  },
  {
   "cell_type": "code",
   "execution_count": null,
   "id": "2fbcacf0",
   "metadata": {},
   "outputs": [],
   "source": []
  }
 ],
 "metadata": {
  "kernelspec": {
   "display_name": "Python 3 (ipykernel)",
   "language": "python",
   "name": "python3"
  },
  "language_info": {
   "codemirror_mode": {
    "name": "ipython",
    "version": 3
   },
   "file_extension": ".py",
   "mimetype": "text/x-python",
   "name": "python",
   "nbconvert_exporter": "python",
   "pygments_lexer": "ipython3",
   "version": "3.10.9"
  }
 },
 "nbformat": 4,
 "nbformat_minor": 5
}
